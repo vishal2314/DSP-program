{
  "nbformat": 4,
  "nbformat_minor": 0,
  "metadata": {
    "colab": {
      "provenance": [],
      "toc_visible": true,
      "authorship_tag": "ABX9TyP5Mcwt1HKs8FzK6GeEoHdw",
      "include_colab_link": true
    },
    "kernelspec": {
      "name": "python3",
      "display_name": "Python 3"
    },
    "language_info": {
      "name": "python"
    }
  },
  "cells": [
    {
      "cell_type": "markdown",
      "metadata": {
        "id": "view-in-github",
        "colab_type": "text"
      },
      "source": [
        "<a href=\"https://colab.research.google.com/github/vishal2314/DSP-program/blob/main/dsp_l1.ipynb\" target=\"_parent\"><img src=\"https://colab.research.google.com/assets/colab-badge.svg\" alt=\"Open In Colab\"/></a>"
      ]
    },
    {
      "cell_type": "code",
      "execution_count": null,
      "metadata": {
        "colab": {
          "base_uri": "https://localhost:8080/"
        },
        "id": "EJ46NIizui_v",
        "outputId": "752441d9-6c0a-4107-9169-fef2efab07a8"
      },
      "outputs": [
        {
          "output_type": "stream",
          "name": "stdout",
          "text": [
            "enter the first number:6\n",
            "the factorial of 6 is 720\n"
          ]
        }
      ],
      "source": [
        "# Name=vishal\n",
        "# Roll no=1/22/FET/BCS/329\n",
        "# sec = AIML(B1)\n",
        "def fact(n):\n",
        "  if n==1:\n",
        "    return 1\n",
        "  else:\n",
        "    return n*fact(n-1)\n",
        "\n",
        "a=int(input(\"enter the first number:\"))\n",
        "print(\"the factorial of\",a,\"is\",fact(a))\n",
        "\n"
      ]
    },
    {
      "cell_type": "code",
      "source": [
        "# Name=vishal\n",
        "# Roll no=1/22/FET/BCS/329\n",
        "# sec = AIML(B1)\n",
        "class Fact:\n",
        "    def __init__(self, n):\n",
        "        self.n = n\n",
        "\n",
        "    def compute_factorial(self):\n",
        "        if self.n == 0 or self.n == 1:\n",
        "            return 1\n",
        "        factorial = 1\n",
        "        for i in range(2, self.n + 1):\n",
        "            factorial *= i\n",
        "        return factorial\n",
        "\n",
        "num = int(input(\"Enter a number: \"))\n",
        "obj = Fact(num)\n",
        "res = obj.compute_factorial()\n",
        "print(\"The factorial of\" ,num, \"is\" ,res,)\n"
      ],
      "metadata": {
        "colab": {
          "base_uri": "https://localhost:8080/"
        },
        "id": "Id1ExEwYyJ3g",
        "outputId": "09beedf7-a6ed-4cea-8984-ecb42e1ee429"
      },
      "execution_count": null,
      "outputs": [
        {
          "output_type": "stream",
          "name": "stdout",
          "text": [
            "Enter a number: 6\n",
            "The factorial of 6 is 720\n"
          ]
        }
      ]
    },
    {
      "cell_type": "code",
      "source": [
        "# Name=vishal\n",
        "# Roll no=1/22/FET/BCS/329\n",
        "# sec = AIML(B1)\n",
        "n=int(input(\"enter any number\"))\n",
        "c=0\n",
        "for i in range(2,n+1):\n",
        "  if n%i==0:\n",
        "    c=c+1\n",
        "if c==1:\n",
        "  print(\"it is a prime number\")\n",
        "else:\n",
        "  print(\"it is not a prime number\")"
      ],
      "metadata": {
        "colab": {
          "base_uri": "https://localhost:8080/"
        },
        "id": "v4h9h44Dx-lQ",
        "outputId": "11fcb549-8dc6-457d-e0b1-8c52bab35085"
      },
      "execution_count": 2,
      "outputs": [
        {
          "output_type": "stream",
          "name": "stdout",
          "text": [
            "enter any number31\n",
            "it is a prime number\n"
          ]
        }
      ]
    },
    {
      "cell_type": "code",
      "source": [
        "# Name=vishal\n",
        "# Roll no=1/22/FET/BCS/329\n",
        "# sec = AIML(B1)\n",
        "for n in range(1,101):\n",
        "  if n%3==0:\n",
        "    print(\"frizz\")\n",
        "  elif n%5==0:\n",
        "    print(\"buzz\")\n",
        "  elif n%15==0:\n",
        "    print(\"frizz buzz\")\n",
        "  else:\n",
        "    print(n)\n"
      ],
      "metadata": {
        "colab": {
          "base_uri": "https://localhost:8080/"
        },
        "id": "3PzSgznIydCH",
        "outputId": "590cd7a0-8e72-4491-e562-36639f4ed23a"
      },
      "execution_count": 8,
      "outputs": [
        {
          "output_type": "stream",
          "name": "stdout",
          "text": [
            "1\n",
            "2\n",
            "frizz\n",
            "4\n",
            "buzz\n",
            "frizz\n",
            "7\n",
            "8\n",
            "frizz\n",
            "buzz\n",
            "11\n",
            "frizz\n",
            "13\n",
            "14\n",
            "frizz\n",
            "16\n",
            "17\n",
            "frizz\n",
            "19\n",
            "buzz\n",
            "frizz\n",
            "22\n",
            "23\n",
            "frizz\n",
            "buzz\n",
            "26\n",
            "frizz\n",
            "28\n",
            "29\n",
            "frizz\n",
            "31\n",
            "32\n",
            "frizz\n",
            "34\n",
            "buzz\n",
            "frizz\n",
            "37\n",
            "38\n",
            "frizz\n",
            "buzz\n",
            "41\n",
            "frizz\n",
            "43\n",
            "44\n",
            "frizz\n",
            "46\n",
            "47\n",
            "frizz\n",
            "49\n",
            "buzz\n",
            "frizz\n",
            "52\n",
            "53\n",
            "frizz\n",
            "buzz\n",
            "56\n",
            "frizz\n",
            "58\n",
            "59\n",
            "frizz\n",
            "61\n",
            "62\n",
            "frizz\n",
            "64\n",
            "buzz\n",
            "frizz\n",
            "67\n",
            "68\n",
            "frizz\n",
            "buzz\n",
            "71\n",
            "frizz\n",
            "73\n",
            "74\n",
            "frizz\n",
            "76\n",
            "77\n",
            "frizz\n",
            "79\n",
            "buzz\n",
            "frizz\n",
            "82\n",
            "83\n",
            "frizz\n",
            "buzz\n",
            "86\n",
            "frizz\n",
            "88\n",
            "89\n",
            "frizz\n",
            "91\n",
            "92\n",
            "frizz\n",
            "94\n",
            "buzz\n",
            "frizz\n",
            "97\n",
            "98\n",
            "frizz\n",
            "buzz\n"
          ]
        }
      ]
    },
    {
      "cell_type": "code",
      "source": [
        "# Name=vishal\n",
        "# Roll no=1/22/FET/BCS/329\n",
        "# sec = AIML(B1)\n",
        "n=int(input(\"enter any number\"))\n",
        "c=0\n",
        "t=n\n",
        "while(t>0):\n",
        "  a=t%10\n",
        "  t=t//10\n",
        "  c=c*10+a\n",
        "if n==c:\n",
        "  print(\"it is a palindrome\")\n",
        "else:\n",
        "  print(\"it is not a palindrome\")"
      ],
      "metadata": {
        "colab": {
          "base_uri": "https://localhost:8080/"
        },
        "id": "Lw_FAk9k4hSB",
        "outputId": "49d1ac3e-a43c-47af-cbb5-b91428b6c7ca"
      },
      "execution_count": 13,
      "outputs": [
        {
          "output_type": "stream",
          "name": "stdout",
          "text": [
            "enter any number123321\n",
            "it is a palindrome\n"
          ]
        }
      ]
    },
    {
      "cell_type": "code",
      "source": [
        "# Name=vishal\n",
        "# Roll no=1/22/FET/BCS/329\n",
        "# sec = AIML(B1)\n",
        "n=input(\"enter string :\")\n",
        "b=n[::-1]\n",
        "if n==b:\n",
        "  print(\"it is a palindrome\")\n",
        "else:\n",
        "  print(\"it is not a palindrome\")"
      ],
      "metadata": {
        "colab": {
          "base_uri": "https://localhost:8080/"
        },
        "id": "14dYz9ZK66D4",
        "outputId": "18a64208-8607-4827-d5cc-3816d53a81bc"
      },
      "execution_count": 14,
      "outputs": [
        {
          "output_type": "stream",
          "name": "stdout",
          "text": [
            "enter string :abcba\n",
            "it is a palindrome\n"
          ]
        }
      ]
    },
    {
      "cell_type": "code",
      "source": [
        "# Name=vishal\n",
        "# Roll no=1/22/FET/BCS/329\n",
        "# sec = AIML(B1)\n",
        "n=int(input(\"enter any number : \"))\n",
        "a=0\n",
        "while(n>0):\n",
        "  a+=n%10\n",
        "  n=n//10\n",
        "print(\"sum of digits :\",a)"
      ],
      "metadata": {
        "colab": {
          "base_uri": "https://localhost:8080/"
        },
        "id": "3AQMsjBY7bkO",
        "outputId": "b34f9817-9b75-418f-926d-4112a8b5ce2d"
      },
      "execution_count": 15,
      "outputs": [
        {
          "output_type": "stream",
          "name": "stdout",
          "text": [
            "enter any number : 123456\n",
            "sum of digits : 21\n"
          ]
        }
      ]
    },
    {
      "cell_type": "code",
      "source": [
        "# Name=vishal\n",
        "# Roll no=1/22/FET/BCS/329\n",
        "# sec = AIML(B1)\n",
        "n=int(input(\"enter any number : \"))\n",
        "a=0\n",
        "while(n>0):\n",
        "  a=max(a,n%10)\n",
        "  n=n//10\n",
        "print(\"max value is :\",a)"
      ],
      "metadata": {
        "colab": {
          "base_uri": "https://localhost:8080/"
        },
        "id": "0GJeZ6o9Cp31",
        "outputId": "8dcac01b-74e3-41fa-a603-02fe5cb20e92"
      },
      "execution_count": 16,
      "outputs": [
        {
          "output_type": "stream",
          "name": "stdout",
          "text": [
            "enter any number : 123456\n",
            "max value is : 6\n"
          ]
        }
      ]
    }
  ]
}