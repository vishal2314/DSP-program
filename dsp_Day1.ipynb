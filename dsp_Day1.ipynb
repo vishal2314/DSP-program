{
  "nbformat": 4,
  "nbformat_minor": 0,
  "metadata": {
    "colab": {
      "provenance": [],
      "authorship_tag": "ABX9TyPmjnuDfkttpnrLfRZlEYNp",
      "include_colab_link": true
    },
    "kernelspec": {
      "name": "python3",
      "display_name": "Python 3"
    },
    "language_info": {
      "name": "python"
    }
  },
  "cells": [
    {
      "cell_type": "markdown",
      "metadata": {
        "id": "view-in-github",
        "colab_type": "text"
      },
      "source": [
        "<a href=\"https://colab.research.google.com/github/vishal2314/DSP-program/blob/main/dsp_Day1.ipynb\" target=\"_parent\"><img src=\"https://colab.research.google.com/assets/colab-badge.svg\" alt=\"Open In Colab\"/></a>"
      ]
    },
    {
      "cell_type": "code",
      "execution_count": null,
      "metadata": {
        "colab": {
          "base_uri": "https://localhost:8080/"
        },
        "id": "EJ46NIizui_v",
        "outputId": "752441d9-6c0a-4107-9169-fef2efab07a8"
      },
      "outputs": [
        {
          "output_type": "stream",
          "name": "stdout",
          "text": [
            "enter the first number:6\n",
            "the factorial of 6 is 720\n"
          ]
        }
      ],
      "source": [
        "# Name=vishal\n",
        "# Roll no=1/22/FET/BCS/329\n",
        "# sec = AIML(B1)\n",
        "def fact(n):\n",
        "  if n==1:\n",
        "    return 1\n",
        "  else:\n",
        "    return n*fact(n-1)\n",
        "\n",
        "a=int(input(\"enter the first number:\"))\n",
        "print(\"the factorial of\",a,\"is\",fact(a))\n",
        "\n"
      ]
    },
    {
      "cell_type": "code",
      "source": [
        "# Name=vishal\n",
        "# Roll no=1/22/FET/BCS/329\n",
        "# sec = AIML(B1)\n",
        "class Fact:\n",
        "    def __init__(self, n):\n",
        "        self.n = n\n",
        "\n",
        "    def compute_factorial(self):\n",
        "        if self.n == 0 or self.n == 1:\n",
        "            return 1\n",
        "        factorial = 1\n",
        "        for i in range(2, self.n + 1):\n",
        "            factorial *= i\n",
        "        return factorial\n",
        "\n",
        "num = int(input(\"Enter a number: \"))\n",
        "obj = Fact(num)\n",
        "res = obj.compute_factorial()\n",
        "print(\"The factorial of\" ,num, \"is\" ,res,)\n"
      ],
      "metadata": {
        "colab": {
          "base_uri": "https://localhost:8080/"
        },
        "id": "Id1ExEwYyJ3g",
        "outputId": "09beedf7-a6ed-4cea-8984-ecb42e1ee429"
      },
      "execution_count": null,
      "outputs": [
        {
          "output_type": "stream",
          "name": "stdout",
          "text": [
            "Enter a number: 6\n",
            "The factorial of 6 is 720\n"
          ]
        }
      ]
    }
  ]
}